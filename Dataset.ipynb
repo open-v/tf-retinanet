{
 "cells": [
  {
   "cell_type": "code",
   "execution_count": 5,
   "metadata": {},
   "outputs": [],
   "source": [
    "import tensorflow as tf\n",
    "import tf_retinanet\n",
    "import os"
   ]
  },
  {
   "cell_type": "code",
   "execution_count": 6,
   "metadata": {},
   "outputs": [],
   "source": [
    "dataset = tf_retinanet.data.read(os.path.join('data', 'headset.record-?????-of-00010'))"
   ]
  },
  {
   "cell_type": "code",
   "execution_count": 9,
   "metadata": {},
   "outputs": [
    {
     "name": "stdout",
     "output_type": "stream",
     "text": [
      "tf.Tensor(\n",
      "[[[[  9.061        8.221        5.32      ]\n",
      "   [  9.324125     8.484125     5.583125  ]\n",
      "   [  9.832875     8.992875     6.091875  ]\n",
      "   ...\n",
      "   [127.061      118.221      105.32      ]\n",
      "   [127.061      118.221      105.32      ]\n",
      "   [127.061      118.221      105.32      ]]\n",
      "\n",
      "  [[  9.324125     8.484125     5.583125  ]\n",
      "   [  9.51801523   8.67801523   5.77701523]\n",
      "   [  9.89290039   9.05290039   6.15190039]\n",
      "   ...\n",
      "   [127.061      118.221      105.32      ]\n",
      "   [127.061      118.221      105.32      ]\n",
      "   [127.061      118.221      105.32      ]]\n",
      "\n",
      "  [[  9.832875     8.992875     6.091875  ]\n",
      "   [  9.89290039   9.05290039   6.15190039]\n",
      "   [ 10.00895898   9.16895898   6.26795898]\n",
      "   ...\n",
      "   [127.061      118.221      105.32      ]\n",
      "   [127.061      118.221      105.32      ]\n",
      "   [127.061      118.221      105.32      ]]\n",
      "\n",
      "  ...\n",
      "\n",
      "  [[ 57.201625    47.1335      43.548125  ]\n",
      "   [ 56.35222461  46.870375    42.55565039]\n",
      "   [ 54.70991602  46.361625    40.63670898]\n",
      "   ...\n",
      "   [-83.24575195 -91.08575195 -88.98675195]\n",
      "   [-84.14719336 -91.98719336 -89.88819336]\n",
      "   [-84.939      -92.779      -90.68      ]]\n",
      "\n",
      "  [[ 59.745375    49.1685      44.056875  ]\n",
      "   [ 58.76210977  48.905375    43.19826523]\n",
      "   [ 56.86097461  48.396625    41.53815039]\n",
      "   ...\n",
      "   [-83.73192617 -91.57192617 -89.47292617]\n",
      "   [-84.37454102 -92.21454102 -90.11554102]\n",
      "   [-84.939      -92.779      -90.68      ]]\n",
      "\n",
      "  [[ 61.061       50.221       44.32      ]\n",
      "   [ 60.0085      49.957875    43.530625  ]\n",
      "   [ 57.9735      49.449125    42.004375  ]\n",
      "   ...\n",
      "   [-83.983375   -91.823375   -89.724375  ]\n",
      "   [-84.492125   -92.332125   -90.233125  ]\n",
      "   [-84.939      -92.779      -90.68      ]]]], shape=(1, 800, 1179, 3), dtype=float64)\n"
     ]
    }
   ],
   "source": [
    "for image, target in dataset.take(1):\n",
    "    print(image)"
   ]
  },
  {
   "cell_type": "code",
   "execution_count": null,
   "metadata": {},
   "outputs": [],
   "source": [
    "def batch_modify(image, target):\n",
    "    print(tf.shape(image), target)\n",
    "    return image, target\n",
    "modified_dataset = dataset.batch(4).map(batch_modify)"
   ]
  },
  {
   "cell_type": "code",
   "execution_count": null,
   "metadata": {},
   "outputs": [],
   "source": []
  },
  {
   "cell_type": "code",
   "execution_count": null,
   "metadata": {},
   "outputs": [],
   "source": []
  },
  {
   "cell_type": "code",
   "execution_count": null,
   "metadata": {},
   "outputs": [],
   "source": []
  },
  {
   "cell_type": "code",
   "execution_count": null,
   "metadata": {},
   "outputs": [],
   "source": []
  },
  {
   "cell_type": "code",
   "execution_count": null,
   "metadata": {},
   "outputs": [],
   "source": []
  },
  {
   "cell_type": "code",
   "execution_count": null,
   "metadata": {},
   "outputs": [],
   "source": []
  },
  {
   "cell_type": "code",
   "execution_count": null,
   "metadata": {},
   "outputs": [],
   "source": []
  },
  {
   "cell_type": "code",
   "execution_count": null,
   "metadata": {},
   "outputs": [],
   "source": []
  },
  {
   "cell_type": "code",
   "execution_count": null,
   "metadata": {},
   "outputs": [],
   "source": []
  },
  {
   "cell_type": "code",
   "execution_count": null,
   "metadata": {},
   "outputs": [],
   "source": []
  },
  {
   "cell_type": "code",
   "execution_count": null,
   "metadata": {},
   "outputs": [],
   "source": []
  },
  {
   "cell_type": "code",
   "execution_count": null,
   "metadata": {},
   "outputs": [],
   "source": []
  }
 ],
 "metadata": {
  "kernelspec": {
   "display_name": "Python 3",
   "language": "python",
   "name": "python3"
  }
 },
 "nbformat": 4,
 "nbformat_minor": 2
}
