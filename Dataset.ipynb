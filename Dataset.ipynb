{
 "cells": [
  {
   "cell_type": "code",
   "execution_count": 1,
   "metadata": {},
   "outputs": [],
   "source": [
    "import tensorflow as tf\n",
    "import tf_retinanet\n",
    "import os"
   ]
  },
  {
   "cell_type": "code",
   "execution_count": 2,
   "metadata": {},
   "outputs": [],
   "source": [
    "dataset = tf_retinanet.data.read(os.path.join('data', 'dataset.record-?????-of-00010'))"
   ]
  },
  {
   "cell_type": "code",
   "execution_count": 3,
   "metadata": {},
   "outputs": [
    {
     "name": "stdout",
     "output_type": "stream",
     "text": [
      "tf.Tensor(\n",
      "[[[[   9.828194     8.9881935    6.087194 ]\n",
      "   [  10.845081    10.005081     7.104081 ]\n",
      "   [  11.344469    10.504469     7.603469 ]\n",
      "   ...\n",
      "   [ 127.061      118.221      105.32     ]\n",
      "   [ 127.061      118.221      105.32     ]\n",
      "   [ 127.061      118.221      105.32     ]]\n",
      "\n",
      "  [[  11.6135      10.7735       7.8725   ]\n",
      "   [  11.061       10.221        7.32     ]\n",
      "   [   9.736406     8.896406     5.995406 ]\n",
      "   ...\n",
      "   [ 128.6135     119.7735     106.8725   ]\n",
      "   [ 128.6135     119.7735     106.8725   ]\n",
      "   [ 128.6135     119.7735     106.8725   ]]\n",
      "\n",
      "  [[  10.4735       9.6335       6.7325   ]\n",
      "   [  10.245594     9.405594     6.504594 ]\n",
      "   [   9.061        8.221        5.32     ]\n",
      "   ...\n",
      "   [ 129.6485     120.8085     107.9075   ]\n",
      "   [ 129.6485     120.8085     107.9075   ]\n",
      "   [ 129.6485     120.8085     107.9075   ]]\n",
      "\n",
      "  ...\n",
      "\n",
      "  [[  27.609625    43.683094    42.051125 ]\n",
      "   [  31.109781    46.531876    43.569187 ]\n",
      "   [  44.52147     57.896782    53.645782 ]\n",
      "   ...\n",
      "   [ -95.0515    -102.8915    -100.7925   ]\n",
      "   [ -90.929      -98.769      -96.67     ]\n",
      "   [ -92.983406  -100.82341    -98.7244   ]]\n",
      "\n",
      "  [[  59.448242    59.76166     56.876324 ]\n",
      "   [  55.90773     56.240486    53.281475 ]\n",
      "   [  61.000126    59.843033    54.82872  ]\n",
      "   ...\n",
      "   [ -91.8315     -99.6715     -97.5725   ]\n",
      "   [ -85.499      -93.339      -91.24     ]\n",
      "   [ -85.8515     -93.6915     -91.5925   ]]\n",
      "\n",
      "  [[  56.671307    47.6335      41.982193 ]\n",
      "   [  58.420593    48.384014    42.911175 ]\n",
      "   [  57.046562    47.829063    40.27056  ]\n",
      "   ...\n",
      "   [ -89.7265     -97.5665     -95.4675   ]\n",
      "   [ -83.76673    -91.60673    -89.50773  ]\n",
      "   [ -84.64688    -92.48688    -90.38788  ]]]], shape=(1, 200, 295, 3), dtype=float32)\n"
     ]
    }
   ],
   "source": [
    "for image, bboxes, labels in dataset.take(1):\n",
    "    print(image)"
   ]
  },
  {
   "cell_type": "code",
   "execution_count": 4,
   "metadata": {},
   "outputs": [
    {
     "data": {
      "text/plain": [
       "TensorShape([1, 200, 295, 3])"
      ]
     },
     "execution_count": 4,
     "metadata": {},
     "output_type": "execute_result"
    }
   ],
   "source": [
    "image.shape"
   ]
  },
  {
   "cell_type": "code",
   "execution_count": 5,
   "metadata": {},
   "outputs": [
    {
     "data": {
      "text/plain": [
       "TensorShape([1, 11412, 5])"
      ]
     },
     "execution_count": 5,
     "metadata": {},
     "output_type": "execute_result"
    }
   ],
   "source": [
    "bboxes.shape"
   ]
  },
  {
   "cell_type": "code",
   "execution_count": 6,
   "metadata": {},
   "outputs": [],
   "source": [
    "import tensorflow as tf\n",
    "from tf_retinanet.builders import application_builder\n",
    "from tf_retinanet.builders import loss_builder"
   ]
  },
  {
   "cell_type": "code",
   "execution_count": 7,
   "metadata": {},
   "outputs": [],
   "source": [
    "model = application_builder.build('mobilenet_v1', num_classes=1, num_anchors=9)"
   ]
  },
  {
   "cell_type": "code",
   "execution_count": 8,
   "metadata": {},
   "outputs": [],
   "source": [
    "model.compile(optiomizer=tf.keras.optimizers.Adam(lr=1e-5),\n",
    "             loss=[loss_builder.build_smooth_l1_loss(), loss_builder.build_focal_loss()])"
   ]
  },
  {
   "cell_type": "code",
   "execution_count": 9,
   "metadata": {},
   "outputs": [],
   "source": [
    "predictions = model(image)"
   ]
  },
  {
   "cell_type": "code",
   "execution_count": 10,
   "metadata": {},
   "outputs": [],
   "source": [
    "smooth = loss_builder.build_smooth_l1_loss()\n",
    "focal = loss_builder.build_focal_loss()"
   ]
  },
  {
   "cell_type": "code",
   "execution_count": 11,
   "metadata": {},
   "outputs": [
    {
     "data": {
      "text/plain": [
       "(TensorShape([1, 11412, 5]), TensorShape([1, 10719, 4]))"
      ]
     },
     "execution_count": 11,
     "metadata": {},
     "output_type": "execute_result"
    }
   ],
   "source": [
    "bboxes.shape, predictions[0].shape"
   ]
  },
  {
   "cell_type": "code",
   "execution_count": 12,
   "metadata": {},
   "outputs": [
    {
     "data": {
      "text/plain": [
       "<tf.Tensor: id=5379, shape=(), dtype=float32, numpy=2.876294>"
      ]
     },
     "execution_count": 12,
     "metadata": {},
     "output_type": "execute_result"
    }
   ],
   "source": [
    "smooth(bboxes, predictions[0])"
   ]
  },
  {
   "cell_type": "code",
   "execution_count": 13,
   "metadata": {},
   "outputs": [
    {
     "data": {
      "text/plain": [
       "<tf.Tensor: id=5444, shape=(), dtype=float32, numpy=12.528548>"
      ]
     },
     "execution_count": 13,
     "metadata": {},
     "output_type": "execute_result"
    }
   ],
   "source": [
    "focal(labels, predictions[1])"
   ]
  },
  {
   "cell_type": "code",
   "execution_count": 14,
   "metadata": {},
   "outputs": [],
   "source": [
    "import tensorflow as tf"
   ]
  },
  {
   "cell_type": "code",
   "execution_count": 15,
   "metadata": {},
   "outputs": [],
   "source": [
    "@tf.function\n",
    "def train(image, bboxes, classes):\n",
    "    with tf.GradientTape() as tape:\n",
    "        pred_bboxes, pred_classes = model(image)\n",
    "    "
   ]
  },
  {
   "cell_type": "code",
   "execution_count": 16,
   "metadata": {},
   "outputs": [
    {
     "name": "stdout",
     "output_type": "stream",
     "text": [
      "Train on 1 samples\n",
      "1/1 [==============================] - 12s 12s/sample - loss: 15.4412 - localization_loss: 2.8761 - classification_loss: 12.5651\n"
     ]
    },
    {
     "data": {
      "text/plain": [
       "<tensorflow.python.keras.callbacks.History at 0x27b17ea6668>"
      ]
     },
     "execution_count": 16,
     "metadata": {},
     "output_type": "execute_result"
    }
   ],
   "source": [
    "model.fit(image, [bboxes, labels])"
   ]
  },
  {
   "cell_type": "code",
   "execution_count": 20,
   "metadata": {},
   "outputs": [],
   "source": [
    "dataset = dataset.shuffle(100)"
   ]
  },
  {
   "cell_type": "code",
   "execution_count": 21,
   "metadata": {},
   "outputs": [],
   "source": [
    "def input_fn():\n",
    "    for image, bboxes, classes in dataset:\n",
    "        yield (image, [bboxes, classes])"
   ]
  },
  {
   "cell_type": "code",
   "execution_count": 22,
   "metadata": {},
   "outputs": [
    {
     "name": "stdout",
     "output_type": "stream",
     "text": [
      "100/100 [==============================] - 37s 369ms/step - loss: 5.7856 - localization_loss: 2.4307 - classification_loss: 3.3549\n"
     ]
    },
    {
     "data": {
      "text/plain": [
       "<tensorflow.python.keras.callbacks.History at 0x27b48be3080>"
      ]
     },
     "execution_count": 22,
     "metadata": {},
     "output_type": "execute_result"
    }
   ],
   "source": [
    "gen = iter(input_fn())\n",
    "model.fit_generator(input_fn(), steps_per_epoch=100)"
   ]
  },
  {
   "cell_type": "code",
   "execution_count": 24,
   "metadata": {},
   "outputs": [],
   "source": [
    "from time import time"
   ]
  },
  {
   "cell_type": "code",
   "execution_count": 30,
   "metadata": {},
   "outputs": [
    {
     "name": "stdout",
     "output_type": "stream",
     "text": [
      "0.0638282299041748\n"
     ]
    }
   ],
   "source": [
    "st = time()\n",
    "box, classmodel(image)\n",
    "print(time() - st)"
   ]
  },
  {
   "cell_type": "code",
   "execution_count": null,
   "metadata": {},
   "outputs": [],
   "source": []
  },
  {
   "cell_type": "code",
   "execution_count": null,
   "metadata": {},
   "outputs": [],
   "source": []
  },
  {
   "cell_type": "code",
   "execution_count": null,
   "metadata": {},
   "outputs": [],
   "source": []
  },
  {
   "cell_type": "code",
   "execution_count": null,
   "metadata": {},
   "outputs": [],
   "source": []
  },
  {
   "cell_type": "code",
   "execution_count": null,
   "metadata": {},
   "outputs": [],
   "source": []
  },
  {
   "cell_type": "code",
   "execution_count": null,
   "metadata": {},
   "outputs": [],
   "source": []
  },
  {
   "cell_type": "code",
   "execution_count": null,
   "metadata": {},
   "outputs": [],
   "source": []
  }
 ],
 "metadata": {
  "kernelspec": {
   "display_name": "Python 3",
   "language": "python",
   "name": "python3"
  },
  "language_info": {
   "codemirror_mode": {
    "name": "ipython",
    "version": 3
   },
   "file_extension": ".py",
   "mimetype": "text/x-python",
   "name": "python",
   "nbconvert_exporter": "python",
   "pygments_lexer": "ipython3",
   "version": "3.6.9"
  }
 },
 "nbformat": 4,
 "nbformat_minor": 2
}
