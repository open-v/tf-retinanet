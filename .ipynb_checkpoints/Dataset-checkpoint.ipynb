{
 "cells": [
  {
   "cell_type": "code",
   "execution_count": 15,
   "metadata": {},
   "outputs": [],
   "source": [
    "import tensorflow as tf\n",
    "import tf_retinanet\n",
    "import os"
   ]
  },
  {
   "cell_type": "code",
   "execution_count": 2,
   "metadata": {},
   "outputs": [],
   "source": [
    "dataset = tf_retinanet.data.read(os.path.join('data', 'headset.record-?????-of-00010'))"
   ]
  },
  {
   "cell_type": "code",
   "execution_count": 11,
   "metadata": {},
   "outputs": [
    {
     "name": "stdout",
     "output_type": "stream",
     "text": [
      "tf.Tensor(\n",
      "[[  37.34643735  379.36117936   84.52088452  436.36363636    0.        ]\n",
      " [ 141.52334152  404.91400491  196.56019656  459.95085995    0.        ]\n",
      " [ 186.73218673  430.46683047  253.56265356  497.2972973     0.        ]\n",
      " [ 263.39066339  416.70761671  342.01474201  493.36609337    0.        ]\n",
      " [ 263.39066339  377.3955774   298.77149877  416.70761671    0.        ]\n",
      " [ 359.70515971  367.56756757  393.12039312  402.94840295    0.        ]\n",
      " [ 406.87960688  428.5012285   518.91891892  573.95577396    0.        ]\n",
      " [ 514.98771499  397.05159705  554.2997543   446.19164619    0.        ]\n",
      " [ 544.47174447  418.67321867  603.43980344  471.74447174    0.        ]\n",
      " [ 532.67813268  375.42997543  564.12776413  408.84520885    0.        ]\n",
      " [ 634.88943489  408.84520885  685.995086    473.71007371    0.        ]\n",
      " [ 642.75184275  395.08599509  685.995086    450.12285012    0.        ]\n",
      " [ 603.43980344  513.02211302  784.27518428  685.995086      0.        ]\n",
      " [ 727.27272727  408.84520885  770.51597052  457.98525799    0.        ]\n",
      " [ 739.06633907  393.12039312  768.55036855  430.46683047    0.        ]\n",
      " [ 798.03439803  377.3955774   829.48402948  418.67321867    0.        ]\n",
      " [ 823.58722359  410.81081081  862.8992629   469.77886978    0.        ]\n",
      " [ 841.27764128  400.98280098  876.65847666  446.19164619    0.        ]\n",
      " [ 882.55528256  387.22358722  912.03931204  426.53562654    0.        ]\n",
      " [ 937.59213759  414.74201474  972.97297297  457.98525799    0.        ]\n",
      " [ 951.35135135  399.01719902  982.8009828   438.32923833    0.        ]\n",
      " [ 978.86977887  406.87960688 1020.14742015  450.12285012    0.        ]\n",
      " [1022.11302211  418.67321867 1053.56265356  459.95085995    0.        ]\n",
      " [1081.08108108  442.26044226 1179.36117936  542.50614251    0.        ]\n",
      " [1106.63390663  406.87960688 1151.84275184  457.98525799    0.        ]\n",
      " [1045.7002457   570.02457002 1179.36117936  796.06879607    0.        ]], shape=(26, 5), dtype=float64)\n"
     ]
    }
   ],
   "source": [
    "for image, target in dataset.take(1):\n",
    "    print(target)"
   ]
  },
  {
   "cell_type": "code",
   "execution_count": 13,
   "metadata": {},
   "outputs": [],
   "source": [
    "def batch_modify(image, target):\n",
    "    print(image, target)\n",
    "    return image, target"
   ]
  },
  {
   "cell_type": "code",
   "execution_count": 14,
   "metadata": {},
   "outputs": [
    {
     "name": "stdout",
     "output_type": "stream",
     "text": [
      "Tensor(\"args_0:0\", dtype=float64) Tensor(\"args_1:0\", dtype=float64)\n"
     ]
    }
   ],
   "source": [
    "modified_dataset = dataset.map(batch_modify)"
   ]
  },
  {
   "cell_type": "code",
   "execution_count": null,
   "metadata": {},
   "outputs": [],
   "source": []
  },
  {
   "cell_type": "code",
   "execution_count": null,
   "metadata": {},
   "outputs": [],
   "source": []
  },
  {
   "cell_type": "code",
   "execution_count": null,
   "metadata": {},
   "outputs": [],
   "source": []
  },
  {
   "cell_type": "code",
   "execution_count": null,
   "metadata": {},
   "outputs": [],
   "source": []
  },
  {
   "cell_type": "code",
   "execution_count": null,
   "metadata": {},
   "outputs": [],
   "source": []
  },
  {
   "cell_type": "code",
   "execution_count": null,
   "metadata": {},
   "outputs": [],
   "source": []
  },
  {
   "cell_type": "code",
   "execution_count": null,
   "metadata": {},
   "outputs": [],
   "source": []
  },
  {
   "cell_type": "code",
   "execution_count": null,
   "metadata": {},
   "outputs": [],
   "source": []
  },
  {
   "cell_type": "code",
   "execution_count": null,
   "metadata": {},
   "outputs": [],
   "source": []
  },
  {
   "cell_type": "code",
   "execution_count": null,
   "metadata": {},
   "outputs": [],
   "source": []
  },
  {
   "cell_type": "code",
   "execution_count": null,
   "metadata": {},
   "outputs": [],
   "source": []
  }
 ],
 "metadata": {
  "kernelspec": {
   "display_name": "Python 3",
   "language": "python",
   "name": "python3"
  },
  "language_info": {
   "codemirror_mode": {
    "name": "ipython",
    "version": 3
   },
   "file_extension": ".py",
   "mimetype": "text/x-python",
   "name": "python",
   "nbconvert_exporter": "python",
   "pygments_lexer": "ipython3",
   "version": "3.6.9"
  }
 },
 "nbformat": 4,
 "nbformat_minor": 2
}
